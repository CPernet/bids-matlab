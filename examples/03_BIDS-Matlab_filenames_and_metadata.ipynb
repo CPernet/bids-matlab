{
 "cells": [
  {
   "cell_type": "markdown",
   "metadata": {},
   "source": [
    "# Create filenames, filepaths, and JSON\n"
   ]
  },
  {
   "cell_type": "markdown",
   "metadata": {},
   "source": [
    "1. [Generating filenames](#Generating-filenames)\n",
    "1. [Modifying filenames](#Modifying-filenames)\n",
    "1. [Generating file names for derivatives](#Generating-file-names-for-derivatives)\n"
   ]
  },
  {
   "cell_type": "code",
   "execution_count": 6,
   "metadata": {},
   "outputs": [],
   "source": [
    "% add bids-matlab to path\n",
    "addpath(fullfile(pwd, '..'));"
   ]
  },
  {
   "cell_type": "markdown",
   "metadata": {},
   "source": [
    " ## Generating filenames"
   ]
  },
  {
   "cell_type": "markdown",
   "metadata": {},
   "source": [
    "Uses the `bids.File` class."
   ]
  },
  {
   "cell_type": "code",
   "execution_count": 16,
   "metadata": {},
   "outputs": [
    {
     "name": "stdout",
     "output_type": "stream",
     "text": [
      "ans = sub-01_task-faceRecognition_run-02_ses-test_bold.nii\n"
     ]
    }
   ],
   "source": [
    "name_spec.ext = '.nii';\n",
    "name_spec.suffix = 'bold';\n",
    "name_spec.entities = struct( ...\n",
    "                          'sub', '01', ...\n",
    "                          'task', 'face recognition', ...\n",
    "                          'run', '02', ...\n",
    "                          'ses', 'test');\n",
    "file = bids.File(name_spec);\n",
    "\n",
    "file.filename"
   ]
  },
  {
   "cell_type": "markdown",
   "metadata": {},
   "source": [
    "You can rely on the BIDS schema to know in which order the entities must go for a certain `suffix` type. "
   ]
  },
  {
   "cell_type": "code",
   "execution_count": 17,
   "metadata": {},
   "outputs": [
    {
     "name": "stdout",
     "output_type": "stream",
     "text": [
      "ans = sub-01_ses-test_task-faceRecognition_run-02_bold.nii\n"
     ]
    }
   ],
   "source": [
    "use_schema = true;\n",
    "\n",
    "file = bids.File(name_spec, use_schema);\n",
    "\n",
    "file.filename"
   ]
  },
  {
   "cell_type": "markdown",
   "metadata": {},
   "source": [
    "This can also tell you if you are missing a required entity if you set `tolerant` to `false`."
   ]
  },
  {
   "cell_type": "code",
   "execution_count": 29,
   "metadata": {
    "scrolled": true
   },
   "outputs": [
    {
     "name": "stdout",
     "output_type": "stream",
     "text": [
      "error: Entities 'task' cannot not be empty for the suffix 'bold'\n",
      "error: called from\n",
      "    error_handling at line 44 column 5\n",
      "    bidsFile_error at line 516 column 7\n",
      "    check_required_entities at line 485 column 9\n",
      "    concatenate_entities at line 451 column 7\n",
      "    create_filename at line 285 column 14\n",
      "    File at line 156 column 11\n"
     ]
    }
   ],
   "source": [
    "clear\n",
    "\n",
    "name_spec.suffix = 'bold';\n",
    "name_spec.ext = '.nii';\n",
    "name_spec.entities = struct( ...\n",
    "                  'sub', '01', ...\n",
    "                  'ses', 'test', ...\n",
    "                  'run', '02');\n",
    "                  \n",
    "use_schema = true;\n",
    "\n",
    "tolerant = false;\n",
    "\n",
    "file = bids.File(name_spec, use_schema, struct(), tolerant);\n"
   ]
  },
  {
   "cell_type": "markdown",
   "metadata": {},
   "source": [
    "Or you can specify the order of the entities manually."
   ]
  },
  {
   "cell_type": "code",
   "execution_count": 28,
   "metadata": {},
   "outputs": [
    {
     "name": "stdout",
     "output_type": "stream",
     "text": [
      "ans = run-02_sub-01_ses-test_task-faceRecognition_bold.nii\n"
     ]
    }
   ],
   "source": [
    "clear\n",
    "\n",
    "name_spec.ext = '.nii';\n",
    "name_spec.suffix = 'bold';\n",
    "name_spec.entities = struct( ...\n",
    "                          'sub', '01', ...\n",
    "                          'task', 'face recognition', ...\n",
    "                          'run', '02', ...\n",
    "                          'ses', 'test');\n",
    "file = bids.File(name_spec);\n",
    "\n",
    "entity_order = {'run', 'sub', 'ses'};\n",
    "\n",
    "file = file.reorder_entities(entity_order);\n",
    "file = file.create_filename;\n",
    "\n",
    "file.filename"
   ]
  },
  {
   "cell_type": "markdown",
   "metadata": {},
   "source": [
    "## Modifying filenames"
   ]
  },
  {
   "cell_type": "markdown",
   "metadata": {},
   "source": [
    "This can be used:\n",
    "- to add, remove, modify any of the entities\n",
    "- change the suffix\n",
    "- change the extensions\n",
    "- add or remove any prefix\n"
   ]
  },
  {
   "cell_type": "code",
   "execution_count": 34,
   "metadata": {},
   "outputs": [
    {
     "name": "stdout",
     "output_type": "stream",
     "text": [
      "ans = sub-01_desc-brain_mask.nii\n"
     ]
    }
   ],
   "source": [
    "clear\n",
    "\n",
    "filename = 'sub-01_ses-mri_T1w.nii';\n",
    "\n",
    "use_schema = false;\n",
    "\n",
    "name_spec.suffix = 'mask';\n",
    "name_spec.entities = struct('ses', '', ...\n",
    "                            'desc', 'brain');\n",
    "\n",
    "file = bids.File(filename, use_schema, name_spec);\n",
    "\n",
    "file.filename"
   ]
  },
  {
   "cell_type": "markdown",
   "metadata": {},
   "source": [
    "## Generating file names for derivatives"
   ]
  },
  {
   "cell_type": "markdown",
   "metadata": {},
   "source": [
    "This can also be useful to remove the prefix of some files."
   ]
  },
  {
   "cell_type": "code",
   "execution_count": 37,
   "metadata": {},
   "outputs": [
    {
     "name": "stdout",
     "output_type": "stream",
     "text": [
      "ans = sub-01_ses-test_task-faceRecognition_run-02_space-IXI549Space_desc-preproc_bold.nii\n"
     ]
    }
   ],
   "source": [
    "clear\n",
    "\n",
    "filename = 'wuasub-01_ses-test_task-faceRecognition_run-02_bold.nii';\n",
    "\n",
    "use_schema = false;\n",
    "\n",
    "name_spec.prefix = '';\n",
    "name_spec.entities = struct('space', 'IXI549Space', ...\n",
    "                            'desc', 'preproc');\n",
    "\n",
    "file = bids.File(filename, use_schema, name_spec);\n",
    "\n",
    "file.filename"
   ]
  },
  {
   "cell_type": "markdown",
   "metadata": {},
   "source": [
    "This can prove useful to get a dummy json that should accompany any derivatives files."
   ]
  },
  {
   "cell_type": "code",
   "execution_count": 42,
   "metadata": {},
   "outputs": [
    {
     "name": "stdout",
     "output_type": "stream",
     "text": [
      "ans = sub-01_ses-test_task-faceRecognition_run-02_space-IXI549Space_desc-preproc_bold.json\n",
      "ans =\n",
      "\n",
      "  scalar structure containing the fields:\n",
      "\n",
      "    Description = RECOMMENDED\n",
      "    Sources = \n",
      "    {\n",
      "      [1,1] = \n",
      "      {\n",
      "        [1,1] = OPTIONAL\n",
      "      }\n",
      "    }\n",
      "    RawSources = \n",
      "    {\n",
      "      [1,1] = \n",
      "      {\n",
      "        [1,1] = OPTIONAL\n",
      "      }\n",
      "    }\n",
      "    SpatialReference = \n",
      "    {\n",
      "      [1,1] = \n",
      "      {\n",
      "        [1,1] = REQUIRED if no space entityor if non standard space RECOMMENDED otherwise\n",
      "      }\n",
      "    }\n",
      "\n"
     ]
    }
   ],
   "source": [
    "json = bids.derivatives_json(file.filename);\n",
    "json.filename\n",
    "json.content"
   ]
  },
  {
   "cell_type": "markdown",
   "metadata": {},
   "source": [
    "The content of the JSON should adapt depending on the entities or suffix present in the output filename."
   ]
  },
  {
   "cell_type": "code",
   "execution_count": 46,
   "metadata": {},
   "outputs": [
    {
     "name": "stdout",
     "output_type": "stream",
     "text": [
      "json =\n",
      "\n",
      "  scalar structure containing the fields:\n",
      "\n",
      "    filename = sub-01_ses-test_task-faceRecognition_res-2pt0_space-IXI549Space_desc-brain_mask.json\n",
      "    content =\n",
      "\n",
      "      scalar structure containing the fields:\n",
      "\n",
      "        Description = RECOMMENDED\n",
      "        Sources = \n",
      "        {\n",
      "          [1,1] = \n",
      "          {\n",
      "            [1,1] = OPTIONAL\n",
      "          }\n",
      "        }\n",
      "        RawSources = \n",
      "        {\n",
      "          [1,1] = \n",
      "          {\n",
      "            [1,1] = REQUIRED\n",
      "          }\n",
      "        }\n",
      "        SpatialReference = \n",
      "        {\n",
      "          [1,1] = \n",
      "          {\n",
      "            [1,1] = REQUIRED if no space entity or if non standard space RECOMMENDED otherwise\n",
      "          }\n",
      "        }\n",
      "        Resolution = \n",
      "        {\n",
      "          [1,1] = \n",
      "          {\n",
      "            [1,1] =\n",
      "\n",
      "              scalar structure containing the fields:\n",
      "\n",
      "                2pt0: 1x24 sq_string\n",
      "\n",
      "          }\n",
      "        }\n",
      "        Atlas = \n",
      "        {\n",
      "          [1,1] = \n",
      "          {\n",
      "            [1,1] = OPTIONAL\n",
      "          }\n",
      "        }\n",
      "        Type = \n",
      "        {\n",
      "          [1,1] = \n",
      "          {\n",
      "            [1,1] = OPTIONAL\n",
      "          }\n",
      "        }\n",
      "\n",
      "\n",
      "ans = sub-01_ses-test_task-faceRecognition_res-2pt0_space-IXI549Space_desc-brain_mask.json\n",
      "ans =\n",
      "\n",
      "  scalar structure containing the fields:\n",
      "\n",
      "    Description = RECOMMENDED\n",
      "    Sources = \n",
      "    {\n",
      "      [1,1] = \n",
      "      {\n",
      "        [1,1] = OPTIONAL\n",
      "      }\n",
      "    }\n",
      "    RawSources = \n",
      "    {\n",
      "      [1,1] = \n",
      "      {\n",
      "        [1,1] = REQUIRED\n",
      "      }\n",
      "    }\n",
      "    SpatialReference = \n",
      "    {\n",
      "      [1,1] = \n",
      "      {\n",
      "        [1,1] = REQUIRED if no space entity or if non standard space RECOMMENDED otherwise\n",
      "      }\n",
      "    }\n",
      "    Resolution = \n",
      "    {\n",
      "      [1,1] = \n",
      "      {\n",
      "        [1,1] =\n",
      "\n",
      "          scalar structure containing the fields:\n",
      "\n",
      "            2pt0 = REQUIRED if \"res\" entity\n",
      "\n",
      "      }\n",
      "    }\n",
      "    Atlas = \n",
      "    {\n",
      "      [1,1] = \n",
      "      {\n",
      "        [1,1] = OPTIONAL\n",
      "      }\n",
      "    }\n",
      "    Type = \n",
      "    {\n",
      "      [1,1] = \n",
      "      {\n",
      "        [1,1] = OPTIONAL\n",
      "      }\n",
      "    }\n",
      "\n",
      "ans =\n",
      "\n",
      "  scalar structure containing the fields:\n",
      "\n",
      "    2pt0 = REQUIRED if \"res\" entity\n",
      "\n"
     ]
    }
   ],
   "source": [
    "json = bids.derivatives_json('sub-01_ses-test_task-faceRecognition_res-2pt0_space-IXI549Space_desc-brain_mask.nii')\n",
    "json.filename\n",
    "json.content\n",
    "json.content.Resolution{1}{1}"
   ]
  }
 ],
 "metadata": {
  "kernelspec": {
   "display_name": "Octave",
   "language": "octave",
   "name": "octave"
  },
  "language_info": {
   "file_extension": ".m",
   "help_links": [
    {
     "text": "GNU Octave",
     "url": "https://www.gnu.org/software/octave/support.html"
    },
    {
     "text": "Octave Kernel",
     "url": "https://github.com/Calysto/octave_kernel"
    },
    {
     "text": "MetaKernel Magics",
     "url": "https://metakernel.readthedocs.io/en/latest/source/README.html"
    }
   ],
   "mimetype": "text/x-octave",
   "name": "octave",
   "version": "4.2.2"
  }
 },
 "nbformat": 4,
 "nbformat_minor": 4
}
