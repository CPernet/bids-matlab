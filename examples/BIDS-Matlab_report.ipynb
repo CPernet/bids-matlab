{
 "cells": [
  {
   "cell_type": "markdown",
   "metadata": {},
   "source": [
    "# BIDS-matlab: reports"
   ]
  },
  {
   "cell_type": "code",
   "execution_count": 6,
   "metadata": {},
   "outputs": [],
   "source": [
    "% add bids-matlab to path\n",
    "addpath(fullfile(pwd, '..'));\n",
    "\n",
    "% TO DO: rename the bids.internal.warning function instead of silencing warnings\n",
    "warning('off','all');"
   ]
  },
  {
   "cell_type": "code",
   "execution_count": 10,
   "metadata": {},
   "outputs": [],
   "source": [
    "  sub = '';\n",
    "  ses = '';\n",
    "  \n",
    "  read_nifti = false;\n",
    "  output_path = fullfile(pwd, 'output');\n",
    "  verbose = true;\n",
    "    \n",
    "  BIDS = fullfile(pwd, 'bids-examples', 'synthetic');"
   ]
  },
  {
   "cell_type": "code",
   "execution_count": 8,
   "metadata": {},
   "outputs": [],
   "source": [
    "  BIDS = bids.layout(BIDS);"
   ]
  },
  {
   "cell_type": "code",
   "execution_count": 11,
   "metadata": {},
   "outputs": [
    {
     "name": "stdout",
     "output_type": "stream",
     "text": [
      "Dataset description saved in:  /home/remi/github/BIDS-matlab/examples/output/dataset-synthetic_bids-matlab_report.md\n",
      "\n",
      "\n",
      "\n",
      " Working on session: 01\n",
      "\n",
      "\n",
      "  Getting parameters - /home/remi/github/BIDS-matlab/examples/bids-examples/synthetic/sub-01/ses-01/anat/sub-01_ses-01_T1w.nii\n",
      "\n",
      "The data acquisition was performed in the XXXInstitutionNameXXX, XXXInstitutionalDepartmentNameXXX, \n",
      "XXXInstitutionAddressXXX.\n",
      "Recordings were acquired using the XXXXXXManufacturerXXXsModelNameXXX system from \n",
      "XXXManufacturerXXX, with serial number XXXDeviceSerialNumberXXX. The software \n",
      "version was XXXSoftwareVersionsXXX.\n",
      "XXXPulseSequenceTypeXXX XXXScanningSequenceXXX XXXSequenceVariantXXX structural \n",
      "MRI data were collected ([XXn_slicesXX] slices; repetition time, TR= XXXRepetitionTimeXXX \n",
      "ms; echo time, TE= [XXteXX] ms; flip angle, FA= XXXFlipAngleXXX deg; field \n",
      "of view, FOV= [XXfovXX] mm; matrix size= [XXmsXX]; voxel size= [XXvsXX] mm)\n",
      "\n",
      "\n",
      "\n",
      "  Getting parameters - /home/remi/github/BIDS-matlab/examples/bids-examples/synthetic/sub-01/ses-01/func/sub-01_ses-01_task-nback_run-01_bold.nii\n",
      "\n",
      "The data acquisition was performed in the XXXInstitutionNameXXX, XXXInstitutionalDepartmentNameXXX, \n",
      "XXXInstitutionAddressXXX.\n",
      "Recordings were acquired using the XXXXXXManufacturerXXXsModelNameXXX system from \n",
      "XXXManufacturerXXX, with serial number XXXDeviceSerialNumberXXX. The software \n",
      "version was XXXSoftwareVersionsXXX.\n",
      "For the N-Back, 2 run(s) of XXXPulseSequenceTypeXXX XXXScanningSequenceXXX XXXSequenceVariantXXX \n",
      "fMRI data were collected ([XXn_slicesXX] slices acquired in a [XXso_strXX] \n",
      "fashion; repetition time, TR= 2.5 ms; echo time, TE= [XXteXX] ms; flip \n",
      "angle, FA= XXXFlipAngleXXX deg; field of view, FOV= [XXfovXX] mm; matrix size= \n",
      "[XXmsXX]; voxel size= [XXvsXX] mm; multiband factor= [XXmb_strXX]; in-plane acceleration \n",
      "factor= [XXpr_strXX]). Each run was [XXlengthXX] minutes in length, during \n",
      "which [XXn_volsXX] functional volumes were acquired.\n",
      "\n",
      "  Getting parameters - /home/remi/github/BIDS-matlab/examples/bids-examples/synthetic/sub-01/ses-01/func/sub-01_ses-01_task-rest_bold.nii\n",
      "\n",
      "The data acquisition was performed in the XXXInstitutionNameXXX, XXXInstitutionalDepartmentNameXXX, \n",
      "XXXInstitutionAddressXXX.\n",
      "Recordings were acquired using the XXXXXXManufacturerXXXsModelNameXXX system from \n",
      "XXXManufacturerXXX, with serial number XXXDeviceSerialNumberXXX. The software \n",
      "version was XXXSoftwareVersionsXXX.\n",
      "For the N-Back, 0 run(s) of XXXXXXPulseSequenceTypeXXXXXX XXXXXXScanningSequenceXXXXXX \n",
      "XXXXXXSequenceVariantXXXXXX fMRI data were collected ([XXn_slicesXX] slices \n",
      "acquired in a [XXso_strXX] fashion; repetition time, TR= 2.5 ms; echo time, TE= \n",
      "[XXteXX] ms; flip angle, FA= XXXXXXFlipAngleXXXXXX deg; field of view, FOV= [XXfovXX] \n",
      "mm; matrix size= [XXmsXX]; voxel size= [XXvsXX] mm; multiband factor= [XXmb_strXX]; \n",
      "in-plane acceleration factor= [XXpr_strXX]). Each run was [XXlengthXX] \n",
      "minutes in length, during which [XXn_volsXX] functional volumes were acquired.\n",
      "\n",
      "\n",
      "\n",
      "\n",
      "\n",
      "\n",
      "\n",
      " Working on session: 02\n",
      "\n",
      "\n",
      "  Getting parameters - /home/remi/github/BIDS-matlab/examples/bids-examples/synthetic/sub-01/ses-02/anat/sub-01_ses-02_T1w.nii\n",
      "\n",
      "The data acquisition was performed in the XXXInstitutionNameXXX, XXXInstitutionalDepartmentNameXXX, \n",
      "XXXInstitutionAddressXXX.\n",
      "Recordings were acquired using the XXXXXXManufacturerXXXsModelNameXXX system from \n",
      "XXXManufacturerXXX, with serial number XXXDeviceSerialNumberXXX. The software \n",
      "version was XXXSoftwareVersionsXXX.\n",
      "XXXPulseSequenceTypeXXX XXXScanningSequenceXXX XXXSequenceVariantXXX structural \n",
      "MRI data were collected ([XXn_slicesXX] slices; repetition time, TR= XXXRepetitionTimeXXX \n",
      "ms; echo time, TE= [XXteXX] ms; flip angle, FA= XXXFlipAngleXXX deg; field \n",
      "of view, FOV= [XXfovXX] mm; matrix size= [XXmsXX]; voxel size= [XXvsXX] mm)\n",
      "\n",
      "\n",
      "\n",
      "  Getting parameters - /home/remi/github/BIDS-matlab/examples/bids-examples/synthetic/sub-01/ses-02/func/sub-01_ses-02_task-nback_run-01_bold.nii\n",
      "\n",
      "The data acquisition was performed in the XXXInstitutionNameXXX, XXXInstitutionalDepartmentNameXXX, \n",
      "XXXInstitutionAddressXXX.\n",
      "Recordings were acquired using the XXXXXXManufacturerXXXsModelNameXXX system from \n",
      "XXXManufacturerXXX, with serial number XXXDeviceSerialNumberXXX. The software \n",
      "version was XXXSoftwareVersionsXXX.\n",
      "For the N-Back, 2 run(s) of XXXPulseSequenceTypeXXX XXXScanningSequenceXXX XXXSequenceVariantXXX \n",
      "fMRI data were collected ([XXn_slicesXX] slices acquired in a [XXso_strXX] \n",
      "fashion; repetition time, TR= 2.5 ms; echo time, TE= [XXteXX] ms; flip \n",
      "angle, FA= XXXFlipAngleXXX deg; field of view, FOV= [XXfovXX] mm; matrix size= \n",
      "[XXmsXX]; voxel size= [XXvsXX] mm; multiband factor= [XXmb_strXX]; in-plane acceleration \n",
      "factor= [XXpr_strXX]). Each run was [XXlengthXX] minutes in length, during \n",
      "which [XXn_volsXX] functional volumes were acquired.\n",
      "\n",
      "  Getting parameters - /home/remi/github/BIDS-matlab/examples/bids-examples/synthetic/sub-01/ses-02/func/sub-01_ses-02_task-rest_bold.nii\n",
      "\n",
      "The data acquisition was performed in the XXXInstitutionNameXXX, XXXInstitutionalDepartmentNameXXX, \n",
      "XXXInstitutionAddressXXX.\n",
      "Recordings were acquired using the XXXXXXManufacturerXXXsModelNameXXX system from \n",
      "XXXManufacturerXXX, with serial number XXXDeviceSerialNumberXXX. The software \n",
      "version was XXXSoftwareVersionsXXX.\n",
      "For the N-Back, 0 run(s) of XXXXXXPulseSequenceTypeXXXXXX XXXXXXScanningSequenceXXXXXX \n",
      "XXXXXXSequenceVariantXXXXXX fMRI data were collected ([XXn_slicesXX] slices \n",
      "acquired in a [XXso_strXX] fashion; repetition time, TR= 2.5 ms; echo time, TE= \n",
      "[XXteXX] ms; flip angle, FA= XXXXXXFlipAngleXXXXXX deg; field of view, FOV= [XXfovXX] \n",
      "mm; matrix size= [XXmsXX]; voxel size= [XXvsXX] mm; multiband factor= [XXmb_strXX]; \n",
      "in-plane acceleration factor= [XXpr_strXX]). Each run was [XXlengthXX] \n",
      "minutes in length, during which [XXn_volsXX] functional volumes were acquired.\n",
      "\n",
      "\n",
      "\n",
      "\n",
      "\n",
      "\n",
      "This text was automatically generated by BIDS-matlab (https://github.com/bids-standard/bids-matlab).\n"
     ]
    }
   ],
   "source": [
    "  bids.report(BIDS, sub, ses, output_path, 'read_nifti', read_nifti, 'verbose', verbose);"
   ]
  }
 ],
 "metadata": {
  "kernelspec": {
   "display_name": "Octave",
   "language": "octave",
   "name": "octave"
  },
  "language_info": {
   "file_extension": ".m",
   "help_links": [
    {
     "text": "GNU Octave",
     "url": "https://www.gnu.org/software/octave/support.html"
    },
    {
     "text": "Octave Kernel",
     "url": "https://github.com/Calysto/octave_kernel"
    },
    {
     "text": "MetaKernel Magics",
     "url": "https://metakernel.readthedocs.io/en/latest/source/README.html"
    }
   ],
   "mimetype": "text/x-octave",
   "name": "octave",
   "version": "4.2.2"
  }
 },
 "nbformat": 4,
 "nbformat_minor": 4
}
