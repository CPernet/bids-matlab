{
 "cells": [
  {
   "cell_type": "markdown",
   "metadata": {},
   "source": [
    "# BIDS-matlab: reports"
   ]
  },
  {
   "cell_type": "code",
   "execution_count": 1,
   "metadata": {},
   "outputs": [],
   "source": [
    "% add bids-matlab to path\n",
    "addpath(fullfile(pwd, '..'));"
   ]
  },
  {
   "cell_type": "code",
   "execution_count": 2,
   "metadata": {},
   "outputs": [],
   "source": [
    "BIDS = bids.layout(fullfile(pwd, 'bids-examples', 'ds101'));"
   ]
  },
  {
   "cell_type": "code",
   "execution_count": 4,
   "metadata": {},
   "outputs": [
    {
     "name": "stdout",
     "output_type": "stream",
     "text": [
      "Dataset description saved in:  /home/remi/github/BIDS-matlab/examples/output/dataset-ds101_bids-matlab_report.md\n",
      "\n",
      "\n",
      "\n",
      "\n",
      "--------------------------------------------------------------------------------\n",
      "error: 'is_octave' undefined near line 591 column 8\n",
      "error: called from\n",
      "    report>print_to_output at line 591 column 5\n",
      "    report at line 102 column 9\n"
     ]
    }
   ],
   "source": [
    "read_nifti = false;\n",
    "output_path = fullfile(pwd, 'output');\n",
    "verbose = true;\n",
    "\n",
    "bids.report(BIDS,\n",
    "            'output_path', output_path, ...\n",
    "            'read_nifti', read_nifti, ...\n",
    "            'verbose', verbose);"
   ]
  }
 ],
 "metadata": {
  "kernelspec": {
   "display_name": "Octave",
   "language": "octave",
   "name": "octave"
  },
  "language_info": {
   "file_extension": ".m",
   "help_links": [
    {
     "text": "GNU Octave",
     "url": "https://www.gnu.org/software/octave/support.html"
    },
    {
     "text": "Octave Kernel",
     "url": "https://github.com/Calysto/octave_kernel"
    },
    {
     "text": "MetaKernel Magics",
     "url": "https://metakernel.readthedocs.io/en/latest/source/README.html"
    }
   ],
   "mimetype": "text/x-octave",
   "name": "octave",
   "version": "4.2.2"
  }
 },
 "nbformat": 4,
 "nbformat_minor": 4
}
